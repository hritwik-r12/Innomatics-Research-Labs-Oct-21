{
 "cells": [
  {
   "cell_type": "markdown",
   "metadata": {},
   "source": [
    "**1. Day 4: Binomial Distribution I**"
   ]
  },
  {
   "cell_type": "code",
   "execution_count": 5,
   "metadata": {},
   "outputs": [
    {
     "name": "stdout",
     "output_type": "stream",
     "text": [
      "1.09 1\n",
      "0.696\n"
     ]
    }
   ],
   "source": [
    "import math\n",
    "\n",
    "def binomial_distribution(x, n, p):\n",
    "    b = (math.factorial(n)/(math.factorial(x)*math.factorial(n-x)))*(p**x)*((1-p)**(n-x))\n",
    "    return(b)\n",
    "\n",
    "if __name__ == '__main__':\n",
    "    b,g = map(float, input().strip().split())\n",
    "    n,p =6,b/(b+g)\n",
    "    b_dist = sum([binomial_distribution(i, n, p) for i in range(3,7)])\n",
    "    \n",
    "    print(round(b_dist, 3))"
   ]
  },
  {
   "cell_type": "markdown",
   "metadata": {},
   "source": [
    "**2. Day 4: Binomial Distribution II**"
   ]
  },
  {
   "cell_type": "code",
   "execution_count": 8,
   "metadata": {},
   "outputs": [
    {
     "name": "stdout",
     "output_type": "stream",
     "text": [
      "12 10\n",
      "0.891\n",
      "0.342\n"
     ]
    }
   ],
   "source": [
    "import math\n",
    "def binomial_distribution(x, n, p):\n",
    "    b = (math.factorial(n)/(math.factorial(x)*math.factorial(n-x)))*(p**x)*((1-p)**(n-x))\n",
    "    return(b)\n",
    "\n",
    "p, n = list(map(int, input().split(\" \")))\n",
    "print(round(sum([binomial_distribution(i, n, p/100) for i in range(3)]), 3))\n",
    "print(round(sum([binomial_distribution(i, n, p/100) for i in range(2, n+1)]), 3))"
   ]
  },
  {
   "cell_type": "markdown",
   "metadata": {},
   "source": [
    "**3. Day 5: Normal Distribution I**"
   ]
  },
  {
   "cell_type": "code",
   "execution_count": 9,
   "metadata": {},
   "outputs": [
    {
     "name": "stdout",
     "output_type": "stream",
     "text": [
      "20 2\n",
      "19.5\n",
      "20 22\n",
      "0.401\n",
      "0.341\n"
     ]
    }
   ],
   "source": [
    "from math import *\n",
    "\n",
    "def Normal_Dist(mean, std, x):\n",
    "        return 0.5 + 0.5 * erf((x-mean)/(std* 2**0.5))\n",
    "\n",
    "mean,std=map(int, input().strip().split())\n",
    "x=float(input())\n",
    "p_x=Normal_Dist(mean,std,x)\n",
    "\n",
    "lower, upper = map(int, input().strip().split())\n",
    "\n",
    "p_upper=Normal_Dist(mean,std,upper)\n",
    "p_lower=Normal_Dist(mean,std,lower)\n",
    "\n",
    "print(round(p_x,3))\n",
    "print(round(p_upper-p_lower,3))"
   ]
  },
  {
   "cell_type": "markdown",
   "metadata": {},
   "source": [
    "**4. Day 5: Normal Distribution II**"
   ]
  },
  {
   "cell_type": "code",
   "execution_count": 10,
   "metadata": {},
   "outputs": [
    {
     "name": "stdout",
     "output_type": "stream",
     "text": [
      "70 10\n",
      "80\n",
      "60\n",
      "15.87\n",
      "84.13\n",
      "15.87\n"
     ]
    }
   ],
   "source": [
    "from math import *\n",
    "\n",
    "mean,std=map(int, input().strip().split())\n",
    "\n",
    "high_grade = int(input())\n",
    "thresh_grade = int(input())\n",
    "\n",
    "cdf=lambda x : 0.5*(1 + erf((x - mean)/(std * sqrt(2))))\n",
    "\n",
    "print(round((1 - cdf(high_grade)) * 100 , 2))\n",
    "print(round((1 - cdf(thresh_grade)) * 100 , 2))\n",
    "print(round(cdf(thresh_grade) * 100 , 2))"
   ]
  },
  {
   "cell_type": "markdown",
   "metadata": {},
   "source": [
    "**5. Day 6: The Central Limit Theorem I**"
   ]
  },
  {
   "cell_type": "code",
   "execution_count": 4,
   "metadata": {},
   "outputs": [
    {
     "name": "stdout",
     "output_type": "stream",
     "text": [
      "9800\n",
      "49\n",
      "205\n",
      "15\n",
      "0.0098\n"
     ]
    }
   ],
   "source": [
    "from math import *\n",
    "\n",
    "max_weight = int(input())\n",
    "nboxes = int(input())\n",
    "mean_weight = int(input())\n",
    "std = int(input())\n",
    "\n",
    "mu_sum = nboxes*mean_weight \n",
    "sigma_sum = sqrt(nboxes)*std\n",
    "\n",
    "def cdf(x , mu, sigma):\n",
    "    Z = (x - mu)/sigma\n",
    "    return 0.5*(1 + erf(Z/(sqrt(2))))\n",
    "\n",
    "print(round(cdf(max_weight, mu_sum, sigma_sum), 4))"
   ]
  },
  {
   "cell_type": "markdown",
   "metadata": {},
   "source": [
    "**6. Day 6: The Central Limit Theorem II**"
   ]
  },
  {
   "cell_type": "code",
   "execution_count": 2,
   "metadata": {},
   "outputs": [
    {
     "name": "stdout",
     "output_type": "stream",
     "text": [
      "250\n",
      "100\n",
      "2.4\n",
      "2.0\n",
      "0.6915\n"
     ]
    }
   ],
   "source": [
    "from math import *\n",
    "\n",
    "ticket = int(input())\n",
    "nstudents = int(input())\n",
    "mean = float(input())\n",
    "std = float(input())\n",
    "\n",
    "mu_sum = nstudents * mean \n",
    "sigma_sum = sqrt(nstudents) * std\n",
    "\n",
    "def cdf(x , mu, sigma):\n",
    "    Z = (x - mu)/sigma\n",
    "    return 0.5*(1 + erf(Z/(sqrt(2))))\n",
    "\n",
    "print(round(cdf(ticket, mu_sum, sigma_sum), 4))"
   ]
  },
  {
   "cell_type": "markdown",
   "metadata": {},
   "source": [
    "**7. Day 6: The Central Limit Theorem III**"
   ]
  },
  {
   "cell_type": "code",
   "execution_count": 5,
   "metadata": {},
   "outputs": [
    {
     "name": "stdout",
     "output_type": "stream",
     "text": [
      "100\n",
      "500\n",
      "80\n",
      ".95\n",
      "1.96\n",
      "484.32\n",
      "515.68\n"
     ]
    }
   ],
   "source": [
    "samples = float(input())\n",
    "mean = float(input())\n",
    "std = float(input())\n",
    "interval = float(input())\n",
    "z = float (input())\n",
    "\n",
    "std_sample = std / (samples**0.5)\n",
    "print(round(mean - std_sample*z,2))\n",
    "print(round(mean + std_sample*z,2))"
   ]
  },
  {
   "cell_type": "markdown",
   "metadata": {},
   "source": [
    "**8. Day 7: Pearson Correlation Coefficient I**"
   ]
  },
  {
   "cell_type": "code",
   "execution_count": 8,
   "metadata": {},
   "outputs": [
    {
     "name": "stdout",
     "output_type": "stream",
     "text": [
      "10\n",
      "10 9.8 8 7.8 7.7 7 6 5 4 2\n",
      "200 44 32 24 22 17 15 12 8 4\n",
      "0.612\n"
     ]
    }
   ],
   "source": [
    "from math import *\n",
    "\n",
    "size = int(input())\n",
    "X = list(map(float, input().strip().split()))\n",
    "Y = list(map(float, input().strip().split()))\n",
    "\n",
    "X_mean = sum(X) / size\n",
    "X_std = sqrt(sum([(i-X_mean)**2 for i in X]) / size)\n",
    "\n",
    "Y_mean = sum(Y) / size\n",
    "Y_std = sqrt(sum([(i-Y_mean)**2 for i in Y]) / size)\n",
    "\n",
    "pcorrelation = 0\n",
    "\n",
    "for i,j in zip(X,Y):\n",
    "    pcorrelation += ((i - X_mean) * (j - Y_mean)) / (size * X_std * Y_std)\n",
    "\n",
    "print(round(pcorrelation, 3))"
   ]
  },
  {
   "cell_type": "markdown",
   "metadata": {},
   "source": [
    "**9. Day 8: Least Square Regression Line**"
   ]
  },
  {
   "cell_type": "code",
   "execution_count": 9,
   "metadata": {},
   "outputs": [
    {
     "name": "stdout",
     "output_type": "stream",
     "text": [
      "95 85\n",
      "85 95\n",
      "80 70\n",
      "70 65\n",
      "60 70\n",
      "78.288\n"
     ]
    }
   ],
   "source": [
    "from math import *\n",
    "\n",
    "X_test = 80\n",
    "x , y = [] , []\n",
    "for _ in range(5):\n",
    "    X , Y = map(int, input().strip().split())\n",
    "    x.append(X)\n",
    "    y.append(Y)\n",
    "    \n",
    "x_mean = sum(x) / 5\n",
    "y_mean = sum(y) / 5\n",
    "\n",
    "sum_sq_x = sum([i**2 for i in x])\n",
    "sum_sq_y = sum([i**2 for i in y])\n",
    "\n",
    "sum_xy = sum([i*j for i,j in zip(x,y)])\n",
    "\n",
    "b = ((5 * sum_xy) - (sum(x) * sum(y))) / ((5 * sum_sq_x) - (sum(x)**2))\n",
    "a = y_mean - (b * x_mean)\n",
    "\n",
    "y_test = a + (b * X_test)\n",
    "print(round(y_test, 3))"
   ]
  },
  {
   "cell_type": "markdown",
   "metadata": {},
   "source": [
    "**10. Day 9: Multiple Linear Regression**"
   ]
  },
  {
   "cell_type": "code",
   "execution_count": 1,
   "metadata": {},
   "outputs": [
    {
     "name": "stdout",
     "output_type": "stream",
     "text": [
      "2 7\n",
      "0.18 0.89 109.85\n",
      "1.0 0.26 155.72\n",
      "0.92 0.11 137.66\n",
      "0.07 0.37 76.17\n",
      "0.85 0.16 139.75\n",
      "0.99 0.41 162.6\n",
      "0.87 0.47 151.77\n",
      "4\n",
      "0.49 0.18\n",
      "105.21\n",
      "0.57 0.83\n",
      "142.67\n",
      "0.56 0.64\n",
      "132.94\n",
      "0.76 0.18\n",
      "129.7\n"
     ]
    }
   ],
   "source": [
    "from sklearn.linear_model import LinearRegression\n",
    "import numpy as np\n",
    "\n",
    "m,n = map(int, input().strip().split())\n",
    "x, y = [], []\n",
    "for _ in range(n):\n",
    "    inpdata = list(map(float, input().strip().split()))\n",
    "    x.append(inpdata[:-1])\n",
    "    y.append(inpdata[-1])\n",
    "    \n",
    "reg = LinearRegression()\n",
    "reg.fit(x,y)\n",
    "\n",
    "a = reg.intercept_\n",
    "b = reg.coef_\n",
    " \n",
    "inp = int(input()) \n",
    " \n",
    "for _ in range(inp):\n",
    "    data = list(map(float,input().strip().split()))\n",
    "    y = a + np.dot(data, b) \n",
    "    print(round(y,2))"
   ]
  }
 ],
 "metadata": {
  "kernelspec": {
   "display_name": "Python 3",
   "language": "python",
   "name": "python3"
  },
  "language_info": {
   "codemirror_mode": {
    "name": "ipython",
    "version": 3
   },
   "file_extension": ".py",
   "mimetype": "text/x-python",
   "name": "python",
   "nbconvert_exporter": "python",
   "pygments_lexer": "ipython3",
   "version": "3.7.4"
  }
 },
 "nbformat": 4,
 "nbformat_minor": 2
}
