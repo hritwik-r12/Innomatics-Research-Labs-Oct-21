{
 "cells": [
  {
   "cell_type": "markdown",
   "metadata": {},
   "source": [
    "Github: https://github.com/hritwik-r12/Innomatics-Research-Labs-Oct-21<br>\n",
    "LinkedIn: https://www.linkedin.com/in/hritwik-ranjan-a250491a2/<br>"
   ]
  },
  {
   "cell_type": "markdown",
   "metadata": {},
   "source": [
    "**1. 78. Subsets**"
   ]
  },
  {
   "cell_type": "code",
   "execution_count": 27,
   "metadata": {},
   "outputs": [
    {
     "data": {
      "text/plain": [
       "[[], [1], [2], [1, 2], [3], [1, 3], [2, 3], [1, 2, 3]]"
      ]
     },
     "execution_count": 27,
     "metadata": {},
     "output_type": "execute_result"
    }
   ],
   "source": [
    "def subsets(nums):\n",
    "    result=[[]]\n",
    "    for num in sorted(nums):\n",
    "        result+=[item+[num] for item in result]\n",
    "    return result\n",
    "subsets([1,2,3])"
   ]
  },
  {
   "cell_type": "markdown",
   "metadata": {},
   "source": [
    "**2. 461. Hamming Distance**"
   ]
  },
  {
   "cell_type": "code",
   "execution_count": 28,
   "metadata": {},
   "outputs": [
    {
     "data": {
      "text/plain": [
       "2"
      ]
     },
     "execution_count": 28,
     "metadata": {},
     "output_type": "execute_result"
    }
   ],
   "source": [
    "def hammingDistance(x, y):\n",
    "    result = 0\n",
    "    while x or y:\n",
    "        result+=(x % 2) ^ (y % 2)\n",
    "        x//=2\n",
    "        y//=2\n",
    "    return result\n",
    "hammingDistance(1,4)"
   ]
  },
  {
   "cell_type": "markdown",
   "metadata": {},
   "source": [
    "**3. 137. Single Number II**"
   ]
  },
  {
   "cell_type": "code",
   "execution_count": 29,
   "metadata": {},
   "outputs": [
    {
     "name": "stdout",
     "output_type": "stream",
     "text": [
      "3\n",
      "99\n"
     ]
    }
   ],
   "source": [
    "def singleNumber(nums):\n",
    "    one, two = 0, 0\n",
    "    for x in nums:\n",
    "        one, two, three = one ^ x, two | (one & x), two & x\n",
    "        one, two = one & ~three, two & ~three\n",
    "    return one\n",
    "print(singleNumber([2,2,3,2]))\n",
    "print(singleNumber([0,1,0,1,0,1,99]))"
   ]
  }
 ],
 "metadata": {
  "kernelspec": {
   "display_name": "Python 3",
   "language": "python",
   "name": "python3"
  },
  "language_info": {
   "codemirror_mode": {
    "name": "ipython",
    "version": 3
   },
   "file_extension": ".py",
   "mimetype": "text/x-python",
   "name": "python",
   "nbconvert_exporter": "python",
   "pygments_lexer": "ipython3",
   "version": "3.7.4"
  }
 },
 "nbformat": 4,
 "nbformat_minor": 2
}
