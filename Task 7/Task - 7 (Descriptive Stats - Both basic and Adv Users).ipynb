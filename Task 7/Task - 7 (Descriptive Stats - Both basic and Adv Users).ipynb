{
 "cells": [
  {
   "cell_type": "markdown",
   "metadata": {},
   "source": [
    "# Content\n",
    "\n",
    "### 1. Mean\n",
    "### 2. Median\n",
    "### 3. Mode\n",
    "### 4. Variance\n",
    "### 5. Standard Deviation\n",
    "### 6. Correlation (Pearson and Spearman)\n",
    "### 7. Normal Distribution\n",
    "### 8. Log  Normal Distribution\n",
    "### 9. Pareto Distribution\n",
    "### 10. Skewness and its effect on mean, median, and mode\n",
    "### 11. QQ Plot\n",
    "### 12. Box Cox Transformation"
   ]
  },
  {
   "cell_type": "code",
   "execution_count": 91,
   "metadata": {},
   "outputs": [],
   "source": [
    "import pandas as pd\n",
    "import numpy as np\n",
    "import seaborn as sns\n",
    "import matplotlib.pyplot as plt"
   ]
  },
  {
   "cell_type": "code",
   "execution_count": 92,
   "metadata": {},
   "outputs": [],
   "source": [
    "df=pd.read_csv(\"data.csv\")"
   ]
  },
  {
   "cell_type": "markdown",
   "metadata": {},
   "source": [
    "**df.head():** Returns the first n (default 5) rows for the object based on position. It is helpful in checking if the object has the right type of data in it.\n",
    "\n",
    "For negative values of n, this function returns all rows except the last n rows, equivalent to df[:-n]."
   ]
  },
  {
   "cell_type": "code",
   "execution_count": 93,
   "metadata": {},
   "outputs": [
    {
     "data": {
      "text/html": [
       "<div>\n",
       "<style scoped>\n",
       "    .dataframe tbody tr th:only-of-type {\n",
       "        vertical-align: middle;\n",
       "    }\n",
       "\n",
       "    .dataframe tbody tr th {\n",
       "        vertical-align: top;\n",
       "    }\n",
       "\n",
       "    .dataframe thead th {\n",
       "        text-align: right;\n",
       "    }\n",
       "</style>\n",
       "<table border=\"1\" class=\"dataframe\">\n",
       "  <thead>\n",
       "    <tr style=\"text-align: right;\">\n",
       "      <th></th>\n",
       "      <th>Mthly_HH_Income</th>\n",
       "      <th>Mthly_HH_Expense</th>\n",
       "      <th>No_of_Fly_Members</th>\n",
       "      <th>Emi_or_Rent_Amt</th>\n",
       "      <th>Annual_HH_Income</th>\n",
       "      <th>Highest_Qualified_Member</th>\n",
       "      <th>No_of_Earning_Members</th>\n",
       "    </tr>\n",
       "  </thead>\n",
       "  <tbody>\n",
       "    <tr>\n",
       "      <td>0</td>\n",
       "      <td>5000</td>\n",
       "      <td>8000</td>\n",
       "      <td>3</td>\n",
       "      <td>2000</td>\n",
       "      <td>64200</td>\n",
       "      <td>Under-Graduate</td>\n",
       "      <td>1</td>\n",
       "    </tr>\n",
       "    <tr>\n",
       "      <td>1</td>\n",
       "      <td>6000</td>\n",
       "      <td>7000</td>\n",
       "      <td>2</td>\n",
       "      <td>3000</td>\n",
       "      <td>79920</td>\n",
       "      <td>Illiterate</td>\n",
       "      <td>1</td>\n",
       "    </tr>\n",
       "    <tr>\n",
       "      <td>2</td>\n",
       "      <td>10000</td>\n",
       "      <td>4500</td>\n",
       "      <td>2</td>\n",
       "      <td>0</td>\n",
       "      <td>112800</td>\n",
       "      <td>Under-Graduate</td>\n",
       "      <td>1</td>\n",
       "    </tr>\n",
       "    <tr>\n",
       "      <td>3</td>\n",
       "      <td>10000</td>\n",
       "      <td>2000</td>\n",
       "      <td>1</td>\n",
       "      <td>0</td>\n",
       "      <td>97200</td>\n",
       "      <td>Illiterate</td>\n",
       "      <td>1</td>\n",
       "    </tr>\n",
       "    <tr>\n",
       "      <td>4</td>\n",
       "      <td>12500</td>\n",
       "      <td>12000</td>\n",
       "      <td>2</td>\n",
       "      <td>3000</td>\n",
       "      <td>147000</td>\n",
       "      <td>Graduate</td>\n",
       "      <td>1</td>\n",
       "    </tr>\n",
       "  </tbody>\n",
       "</table>\n",
       "</div>"
      ],
      "text/plain": [
       "   Mthly_HH_Income  Mthly_HH_Expense  No_of_Fly_Members  Emi_or_Rent_Amt  \\\n",
       "0             5000              8000                  3             2000   \n",
       "1             6000              7000                  2             3000   \n",
       "2            10000              4500                  2                0   \n",
       "3            10000              2000                  1                0   \n",
       "4            12500             12000                  2             3000   \n",
       "\n",
       "   Annual_HH_Income Highest_Qualified_Member  No_of_Earning_Members  \n",
       "0             64200           Under-Graduate                      1  \n",
       "1             79920               Illiterate                      1  \n",
       "2            112800           Under-Graduate                      1  \n",
       "3             97200               Illiterate                      1  \n",
       "4            147000                 Graduate                      1  "
      ]
     },
     "execution_count": 93,
     "metadata": {},
     "output_type": "execute_result"
    }
   ],
   "source": [
    "df.head()"
   ]
  },
  {
   "cell_type": "markdown",
   "metadata": {},
   "source": [
    "**df.describe():** It provides descriptive statistics summarizing the central tendency, dispersion and shape of a dataset’s distribution, **excluding NaN values**.\n",
    "\n",
    "It Analyzes both numeric and object series, as well as DataFrame column sets of mixed data types. The output will vary depending on what is provided. Refer to the notes below for more detail.\n",
    "\n",
    "<font color=\"blue\">*Syntax: DataFrame.describe(percentiles=None, include=None, exclude=None, datetime_is_numeric=False)*</font>"
   ]
  },
  {
   "cell_type": "code",
   "execution_count": 94,
   "metadata": {},
   "outputs": [
    {
     "data": {
      "text/html": [
       "<div>\n",
       "<style scoped>\n",
       "    .dataframe tbody tr th:only-of-type {\n",
       "        vertical-align: middle;\n",
       "    }\n",
       "\n",
       "    .dataframe tbody tr th {\n",
       "        vertical-align: top;\n",
       "    }\n",
       "\n",
       "    .dataframe thead th {\n",
       "        text-align: right;\n",
       "    }\n",
       "</style>\n",
       "<table border=\"1\" class=\"dataframe\">\n",
       "  <thead>\n",
       "    <tr style=\"text-align: right;\">\n",
       "      <th></th>\n",
       "      <th>Mthly_HH_Income</th>\n",
       "      <th>Mthly_HH_Expense</th>\n",
       "      <th>No_of_Fly_Members</th>\n",
       "      <th>Emi_or_Rent_Amt</th>\n",
       "      <th>Annual_HH_Income</th>\n",
       "      <th>No_of_Earning_Members</th>\n",
       "    </tr>\n",
       "  </thead>\n",
       "  <tbody>\n",
       "    <tr>\n",
       "      <td>count</td>\n",
       "      <td>50.000000</td>\n",
       "      <td>50.000000</td>\n",
       "      <td>50.000000</td>\n",
       "      <td>50.000000</td>\n",
       "      <td>5.000000e+01</td>\n",
       "      <td>50.000000</td>\n",
       "    </tr>\n",
       "    <tr>\n",
       "      <td>mean</td>\n",
       "      <td>41558.000000</td>\n",
       "      <td>18818.000000</td>\n",
       "      <td>4.060000</td>\n",
       "      <td>3060.000000</td>\n",
       "      <td>4.900190e+05</td>\n",
       "      <td>1.460000</td>\n",
       "    </tr>\n",
       "    <tr>\n",
       "      <td>std</td>\n",
       "      <td>26097.908979</td>\n",
       "      <td>12090.216824</td>\n",
       "      <td>1.517382</td>\n",
       "      <td>6241.434948</td>\n",
       "      <td>3.201358e+05</td>\n",
       "      <td>0.734291</td>\n",
       "    </tr>\n",
       "    <tr>\n",
       "      <td>min</td>\n",
       "      <td>5000.000000</td>\n",
       "      <td>2000.000000</td>\n",
       "      <td>1.000000</td>\n",
       "      <td>0.000000</td>\n",
       "      <td>6.420000e+04</td>\n",
       "      <td>1.000000</td>\n",
       "    </tr>\n",
       "    <tr>\n",
       "      <td>25%</td>\n",
       "      <td>23550.000000</td>\n",
       "      <td>10000.000000</td>\n",
       "      <td>3.000000</td>\n",
       "      <td>0.000000</td>\n",
       "      <td>2.587500e+05</td>\n",
       "      <td>1.000000</td>\n",
       "    </tr>\n",
       "    <tr>\n",
       "      <td>50%</td>\n",
       "      <td>35000.000000</td>\n",
       "      <td>15500.000000</td>\n",
       "      <td>4.000000</td>\n",
       "      <td>0.000000</td>\n",
       "      <td>4.474200e+05</td>\n",
       "      <td>1.000000</td>\n",
       "    </tr>\n",
       "    <tr>\n",
       "      <td>75%</td>\n",
       "      <td>50375.000000</td>\n",
       "      <td>25000.000000</td>\n",
       "      <td>5.000000</td>\n",
       "      <td>3500.000000</td>\n",
       "      <td>5.947200e+05</td>\n",
       "      <td>2.000000</td>\n",
       "    </tr>\n",
       "    <tr>\n",
       "      <td>max</td>\n",
       "      <td>100000.000000</td>\n",
       "      <td>50000.000000</td>\n",
       "      <td>7.000000</td>\n",
       "      <td>35000.000000</td>\n",
       "      <td>1.404000e+06</td>\n",
       "      <td>4.000000</td>\n",
       "    </tr>\n",
       "  </tbody>\n",
       "</table>\n",
       "</div>"
      ],
      "text/plain": [
       "       Mthly_HH_Income  Mthly_HH_Expense  No_of_Fly_Members  Emi_or_Rent_Amt  \\\n",
       "count        50.000000         50.000000          50.000000        50.000000   \n",
       "mean      41558.000000      18818.000000           4.060000      3060.000000   \n",
       "std       26097.908979      12090.216824           1.517382      6241.434948   \n",
       "min        5000.000000       2000.000000           1.000000         0.000000   \n",
       "25%       23550.000000      10000.000000           3.000000         0.000000   \n",
       "50%       35000.000000      15500.000000           4.000000         0.000000   \n",
       "75%       50375.000000      25000.000000           5.000000      3500.000000   \n",
       "max      100000.000000      50000.000000           7.000000     35000.000000   \n",
       "\n",
       "       Annual_HH_Income  No_of_Earning_Members  \n",
       "count      5.000000e+01              50.000000  \n",
       "mean       4.900190e+05               1.460000  \n",
       "std        3.201358e+05               0.734291  \n",
       "min        6.420000e+04               1.000000  \n",
       "25%        2.587500e+05               1.000000  \n",
       "50%        4.474200e+05               1.000000  \n",
       "75%        5.947200e+05               2.000000  \n",
       "max        1.404000e+06               4.000000  "
      ]
     },
     "execution_count": 94,
     "metadata": {},
     "output_type": "execute_result"
    }
   ],
   "source": [
    "df.describe()"
   ]
  },
  {
   "cell_type": "markdown",
   "metadata": {},
   "source": [
    "# Measures of Central Tendencies\n",
    "\n",
    "While measuring central tendency of a variable, we look at the data with the following techniques\n",
    "\n",
    "1. Mean\n",
    "2. Median\n",
    "3. Mode\n",
    "\n",
    "## Mean (Arithmetic Mean)\n",
    "\n",
    ">**Mean is the average of the group of numbers, in other words, mean is the sum of numbers in the group divided by the count of the total numbers in the group.**\n",
    "\n",
    "**Mean:** $$ \\mu= \\frac{1}{N} \\sum_{i=1}^N x_i = \\frac{x_1+x_2+x_3+....x_i}{n}$$\n",
    "\n",
    "Where, \n",
    "\n",
    "**$\\mu$** = Mean \n",
    "\n",
    "**N**= Total numbers in the set.\n",
    "\n",
    "**$x_i$** = data values\n",
    "\n",
    ">Example: Arithmetic Mean of 142, 150, 149, 156, 153, 155, 162, 168, 170, 175 \n",
    "\n",
    "                        Mean of the given data=\n",
    "$$ \\frac{142 + 150 + 149 + 156 + 153 + 155 + 162 + 168 + 170 + 175} {10} = 158 $$\n"
   ]
  },
  {
   "cell_type": "code",
   "execution_count": 95,
   "metadata": {},
   "outputs": [
    {
     "name": "stdout",
     "output_type": "stream",
     "text": [
      "41558.0\n"
     ]
    }
   ],
   "source": [
    "# Example: Mean of the column \"Mthly_HH_Income\" in the given dataset\n",
    "mean=sum(df[\"Mthly_HH_Income\"])/len(df[\"Mthly_HH_Income\"])\n",
    "\n",
    "print (mean)"
   ]
  },
  {
   "cell_type": "markdown",
   "metadata": {},
   "source": [
    "## Median\n",
    "\n",
    ">**The value of the middlemost observation, obtained after arranging the data in ascending order, is called the median of the data.**\n",
    "\n",
    ">**For example, consider the data: 4, 4, 6, 3, 2. Let's arrange this data in ascending order: 2, 3, 4, 4, 6. There are 5 observations. Thus, median = middle value i.e. 4. We can see here: 2, 3, 4, 4 , 6 (Thus, 4 is the median).**\n",
    "\n",
    "*Step 1*:\n",
    "\n",
    "Sort all the values in ascending or descending order.\n",
    "\n",
    "*Step 2*:\n",
    "\n",
    "If the total number in the sets i.e.,  n is odd then use:\n",
    "\n",
    "$$ Median = \\frac{(n+1)}{2}^{th} observation $$\n",
    "\n",
    "If the total number of observations i.e., n is even then use:\n",
    "\n",
    "\n",
    "$$ Median = \\frac{\\frac{n}{2}^{th} + \\frac{(n+1)}{2}^{th} observation }{2}$$\n",
    "         \n"
   ]
  },
  {
   "cell_type": "markdown",
   "metadata": {},
   "source": [
    "![title.jpeg](https://miro.medium.com/max/1838/1*tzWMWXyEYvz1K5qYy_63Jg.png)          \n",
    "\n",
    "\n",
    "[Source: TowardsDataScience]"
   ]
  },
  {
   "cell_type": "code",
   "execution_count": 96,
   "metadata": {},
   "outputs": [
    {
     "name": "stdout",
     "output_type": "stream",
     "text": [
      "35000.0\n"
     ]
    }
   ],
   "source": [
    "#step 1: sort the values\n",
    "sorted_values = sorted(df[\"Mthly_HH_Income\"])\n",
    "#step 2:\n",
    "n = len(df[\"Mthly_HH_Income\"])\n",
    "\n",
    "#n =50 which is even so we use even method\n",
    "if n % 2 == 0:\n",
    "    a = sorted_values[n//2] #n/2th term\n",
    "    b = sorted_values[n//2-1] #n\n",
    "    median=(a+b)/2 \n",
    "else:\n",
    "    median=sorted_values[n//2]\n",
    "\n",
    "print(median)"
   ]
  },
  {
   "cell_type": "code",
   "execution_count": 97,
   "metadata": {},
   "outputs": [
    {
     "data": {
      "text/plain": [
       "35000.0"
      ]
     },
     "execution_count": 97,
     "metadata": {},
     "output_type": "execute_result"
    }
   ],
   "source": [
    "# Using inbuilt function\n",
    "df[\"Mthly_HH_Income\"].median()"
   ]
  },
  {
   "cell_type": "markdown",
   "metadata": {},
   "source": [
    "## Mode\n",
    ">**The mode is the value that appears most frequently in a data set. A set of data may have one mode, more than one mode, or no mode at all.**\n",
    "\n",
    ">**Mode is most useful as a measure of central tendency when examining categorical data, such as models of cars or flavors of soda, for which a mathematical average median value based on ordering can not be calculated.**\n",
    "\n",
    "For the normal distribution, the mode is also the same value as the mean and median.\n",
    "In many cases, the modal value will differ from the average value in the data.\n",
    "\n",
    "**A set of numbers can have more than one mode (this is known as bimodal if there are two modes) if there are multiple numbers that occur with equal frequency, and more times than the others in the set.**\n",
    "\n",
    "Example: 3, 3, 3, 9, 16, 16, 16, 27, 37, 48\n",
    "\n",
    "Here Both the number 3 and the number 16 are modes as they each occur three times and no other number occurs more often.\n",
    "\n",
    "If no number in a set of numbers occurs more than once, that set has no mode:\n",
    "\n",
    "3, 6, 9, 16, 27, 37, 48\n",
    "\n",
    "A set of numbers with two modes is bimodal, a set of numbers with three modes is trimodal, and any set of numbers with more than one mode is multimodal.\n",
    "\n",
    "\n",
    "**Advantages and Disadvantages of the Mode**\n",
    "\n",
    "**Advantages:**\n",
    "1. The mode is easy to understand and calculate.\n",
    "2. The mode is not affected by extreme values.\n",
    "3. The mode is easy to identify in a data set and in a discrete frequency distribution.\n",
    "4. The mode is useful for qualitative data.\n",
    "5. The mode can be computed in an open-ended frequency table.\n",
    "6. The mode can be located graphically.\n",
    "\n",
    "**Disadvantages:**\n",
    "1. The mode is not defined when there are no repeats in a data set.\n",
    "2. The mode is not based on all values.\n",
    "3. The mode is unstable when the data consist of a small number of values.\n",
    "4. Sometimes data have one mode, more than one mode, or no mode at all.\n",
    "\n",
    "source: https://www.investopedia.com/terms/m/mode.asp\n"
   ]
  },
  {
   "cell_type": "markdown",
   "metadata": {},
   "source": [
    "![title.jpeg](https://qph.fs.quoracdn.net/main-qimg-40fe0ba2333992abb8568de0da740c52-c)"
   ]
  },
  {
   "cell_type": "code",
   "execution_count": 99,
   "metadata": {},
   "outputs": [
    {
     "data": {
      "text/plain": [
       "45000"
      ]
     },
     "execution_count": 99,
     "metadata": {},
     "output_type": "execute_result"
    }
   ],
   "source": [
    "def mode(x):\n",
    "    freq={}\n",
    "    for i in sorted(x):\n",
    "        freq.setdefault(i,0)\n",
    "        freq[i]+=1\n",
    "    \n",
    "    for key,value in freq.items():\n",
    "        if value == max(freq.values()):\n",
    "            freq_val = key\n",
    "    return freq_val\n",
    "\n",
    "mode(df[\"Mthly_HH_Income\"])"
   ]
  },
  {
   "cell_type": "code",
   "execution_count": 100,
   "metadata": {},
   "outputs": [
    {
     "data": {
      "text/html": [
       "<div>\n",
       "<style scoped>\n",
       "    .dataframe tbody tr th:only-of-type {\n",
       "        vertical-align: middle;\n",
       "    }\n",
       "\n",
       "    .dataframe tbody tr th {\n",
       "        vertical-align: top;\n",
       "    }\n",
       "\n",
       "    .dataframe thead th {\n",
       "        text-align: right;\n",
       "    }\n",
       "</style>\n",
       "<table border=\"1\" class=\"dataframe\">\n",
       "  <thead>\n",
       "    <tr style=\"text-align: right;\">\n",
       "      <th></th>\n",
       "      <th>Mthly_HH_Income</th>\n",
       "      <th>Mthly_HH_Expense</th>\n",
       "      <th>No_of_Fly_Members</th>\n",
       "      <th>Emi_or_Rent_Amt</th>\n",
       "      <th>Annual_HH_Income</th>\n",
       "      <th>Highest_Qualified_Member</th>\n",
       "      <th>No_of_Earning_Members</th>\n",
       "    </tr>\n",
       "  </thead>\n",
       "  <tbody>\n",
       "    <tr>\n",
       "      <td>0</td>\n",
       "      <td>45000</td>\n",
       "      <td>25000</td>\n",
       "      <td>4</td>\n",
       "      <td>0</td>\n",
       "      <td>590400</td>\n",
       "      <td>Graduate</td>\n",
       "      <td>1</td>\n",
       "    </tr>\n",
       "  </tbody>\n",
       "</table>\n",
       "</div>"
      ],
      "text/plain": [
       "   Mthly_HH_Income  Mthly_HH_Expense  No_of_Fly_Members  Emi_or_Rent_Amt  \\\n",
       "0            45000             25000                  4                0   \n",
       "\n",
       "   Annual_HH_Income Highest_Qualified_Member  No_of_Earning_Members  \n",
       "0            590400                 Graduate                      1  "
      ]
     },
     "execution_count": 100,
     "metadata": {},
     "output_type": "execute_result"
    }
   ],
   "source": [
    "# Using inbuilt function\n",
    "df.mode()"
   ]
  },
  {
   "cell_type": "markdown",
   "metadata": {},
   "source": [
    "## Pros and Cons of Mean, Median and Mode\n",
    "\n",
    "![comparision.jpeg](https://miro.medium.com/max/875/1*Q7xXvOzsztux1UTpJD1xmg.png)"
   ]
  },
  {
   "cell_type": "markdown",
   "metadata": {},
   "source": [
    "## Relation Between Mean, Median and Mode\n",
    "\n",
    "**Karl Pearson’s formula** states that:\n",
    "\n",
    "(Mean - Median) = 1/3 (Mean - Mode)\n",
    "\n",
    "3 (Mean - Median) = (Mean - Mode)\n",
    "\n",
    "3 Mean - 3 Median = Mean - Mode\n",
    "\n",
    "3 Median = 3 Mean - Mean + Mode\n",
    "\n",
    "**3 Median = 2 Mean + Mode**  \n",
    "> **Works when the skewness is small.**"
   ]
  },
  {
   "cell_type": "markdown",
   "metadata": {},
   "source": [
    "# Variance\n",
    "\n",
    ">**Variance of a set of values is the spread of values from their mean.**\n",
    "\n",
    "The term variance refers to a statistical measurement of the spread between numbers in a data set. More specifically, variance measures how far each number in the set is from the mean and thus from every other number in the set. Variance is often depicted by this symbol: $\\sigma^2$\n",
    "\n",
    "$$Var(X)=\\frac{\\sum{(x_i-\\mu)}^2}{n-1}$$\n",
    "\n",
    "Where,\n",
    "\n",
    "**$x_i$** = ith data point\n",
    "\n",
    "**$\\mu$** = Mean of all data points\n",
    "\n",
    "**n** = Number of data points\n",
    "\n",
    ">A large variance indicates that numbers in the set are far from the mean and far from each other. A small variance, on the other hand, indicates the opposite. A variance value of zero, though, indicates that all values within a set of numbers are identical. Every variance that isn’t zero is a positive number. A variance cannot be negative. That’s because it’s mathematically impossible since you can’t have a negative value resulting from a square.\n",
    "\n",
    ">The less the variance the better the Attribute.\n",
    "\n",
    "### Population Variance and Sample Variance\n",
    "-----\n",
    "\n",
    "Population Variance                 |   Sample Variance\n",
    "-----------------------------       |    -------------------\n",
    "$\\sigma^2=\\frac{\\sum{(x-\\mu)}^2}{n}$|   $S^2=\\frac{\\sum{(x-\\bar{X})}^2}{n-1}$\n",
    "\n",
    "**<em>Population variance refers to the value of variance that is calculated from population data, and sample variance is the variance calculated from sample data. Due to this value of denominator in the formula for variance in case of sample data is ‘n-1’, and it is ‘n’ for population data<em>**\n",
    "\n",
    "[ Read more: http://www.differencebetween.net/science/mathematics-statistics/difference-between-sample-variance-population-variance/#ixzz7AEElMM28 ]\n",
    "\n",
    "#### n - 1 in sample variance?\n",
    ">**Bessel's correction:** In statistics, Bessel's correction is the use of n − 1 instead of n in the formula for the sample variance and sample standard deviation,[1] where n is the number of observations in a sample. This method corrects the bias in the estimation of the population variance. It also partially corrects the bias in the estimation of the population standard deviation. However, the correction often increases the mean squared error in these estimations.\n",
    "\n",
    "\n",
    "[ Read More: https://en.wikipedia.org/wiki/Bessel%27s_correction ]\n",
    "\n",
    "\n",
    "### Importance of Variance\n",
    "-----\n",
    "\n",
    "Variance has a central role in statistics, where some ideas that use it include descriptive statistics, statistical inference, hypothesis testing, goodness of fit, and Monte Carlo sampling. Variance is an important tool in the sciences, where statistical analysis of data is common. The variance is the square of the standard deviation, the second central moment of a distribution, and the covariance of the random variable with itself.\n",
    "\n",
    "### Advantages and Disadvantages of Variance\n",
    "-----\n",
    "\n",
    "**Advantages:** Statisticians use variance to see how individual numbers relate to each other within a data set, rather than using broader mathematical techniques such as arranging numbers into quartiles. The advantage of variance is that it treats all deviations from the mean as the same regardless of their direction. The squared deviations cannot sum to zero and give the appearance of no variability at all in the data.\n",
    "\n",
    "**Disadvantages:** One drawback to variance, though, is that it gives added weight to outliers. These are the numbers far from the mean. Squaring these numbers can skew the data. Another pitfall of using variance is that it is not easily interpreted. Users often employ it primarily to take the square root of its value, which indicates the standard deviation of the data set.\n",
    "\n",
    "Variance is a poor descriptive statistic because there is no direct visual analog for variance in a probability distribution plot.\n",
    "\n",
    "[ Read more: https://www.investopedia.com/terms/v/variance.asp ]"
   ]
  },
  {
   "cell_type": "markdown",
   "metadata": {},
   "source": [
    "### Difference between Variance and Mean Squared Error\n",
    "-----\n",
    "\n",
    "                                    Formula used for calculating Variance:\n",
    "\n",
    "$$Var(X)=\\frac{\\sum{(x_i-\\mu)}^2}{n-1}$$\n",
    "\n",
    "                                    Formula used for calculating MSE:\n",
    "                                    \n",
    "$$MSE=\\frac{\\sum{(y_i-\\hat{y_i})}^2}{n-2}$$\n",
    "\n",
    "Read more: \n",
    "1. https://stats.stackexchange.com/questions/140536/whats-the-difference-between-the-variance-and-the-mean-squared-error\n",
    "\n",
    "2. https://math.stackexchange.com/questions/1357738/what-is-the-difference-between-variance-and-mse"
   ]
  },
  {
   "cell_type": "markdown",
   "metadata": {},
   "source": [
    "### Visualizing Variance\n",
    "\n",
    " https://doi.org/10.1111/j.1467-9639.2010.00426.x\n",
    " \n",
    " \n",
    "![variance](https://image.slidesharecdn.com/10varianceandstandarddeviation-091013132058-phpapp02/95/variance-and-standard-deviation-10-728.jpg?cb=1255440075)"
   ]
  },
  {
   "cell_type": "code",
   "execution_count": 101,
   "metadata": {},
   "outputs": [
    {
     "name": "stdout",
     "output_type": "stream",
     "text": [
      "681100853.0612245\n"
     ]
    }
   ],
   "source": [
    "mean=sum(df[\"Mthly_HH_Income\"])/len(df[\"Mthly_HH_Income\"])\n",
    "dev=[(i-mean)**2 for i in df[\"Mthly_HH_Income\"]]\n",
    "var= sum(dev)/(len(df[\"Mthly_HH_Income\"])-1)\n",
    "print(var)    "
   ]
  },
  {
   "cell_type": "code",
   "execution_count": 102,
   "metadata": {},
   "outputs": [
    {
     "data": {
      "text/plain": [
       "681100853.0612245"
      ]
     },
     "execution_count": 102,
     "metadata": {},
     "output_type": "execute_result"
    }
   ],
   "source": [
    "# Using inbuilt method\n",
    "\n",
    "df[\"Mthly_HH_Income\"].var()"
   ]
  },
  {
   "cell_type": "markdown",
   "metadata": {},
   "source": [
    "# Standard Deviation\n",
    "\n",
    ">A standard deviation is a statistic that measures the dispersion of a dataset relative to its mean. The standard deviation is calculated as the square root of variance by determining each data point's deviation relative to the mean. If the data points are further from the mean, there is a higher deviation within the data set; thus, the more spread out the data, the higher the standard deviation.\n",
    "\n",
    "$$SD=\\sqrt\\frac{\\sum{(x_i-\\mu)}^2}{n-1}$$\n",
    "\n",
    "Where,\n",
    "\n",
    "**$x_i$** = ith data point\n",
    "\n",
    "**$\\mu$** = Mean of all data points\n",
    "\n",
    "**n** = Number of data points\n",
    "\n",
    "\n",
    "### Population SD and Sample SD\n",
    "-----\n",
    "\n",
    "Population SD                    |   Sample SD\n",
    "-----------------------------          |  -------------------\n",
    "$\\sigma=\\sqrt\\frac{\\sum{(x-\\mu)}^2}{n}$|   $S=\\sqrt\\frac{\\sum{(x-\\bar{X})}^2}{n-1}$\n",
    "\n",
    "Although both standard deviations measure variability, there are differences between a population and a sample standard deviation. The first has to do with the distinction between statistics and parameters. The population standard deviation is a parameter, which is a fixed value calculated from every individual in the population.\n",
    "\n",
    "\n",
    "A sample standard deviation is a statistic. This means that it is calculated from only some of the individuals in a population. Since the sample standard deviation depends upon the sample, it has greater variability. Thus the standard deviation of the sample is greater than that of the population.\n",
    "\n",
    "\n",
    "\n",
    "### Importance of Standard Deviation\n",
    "-----\n",
    "\n",
    "**Finance and banking**: Here, it is all about measuring and managing risk and standard deviation measures risk (Volatility). Standard deviation is used by all portfolio managers to measure and track risk. One of the most important ratios in portfolio management, Sharpe Ratio (for which William Sharpe got a Nobel Prize) uses Standard Deviation to measure risk adjusted return (and hence provides incentives to portfolio managers to generate return by taking minimum risk).\n",
    "\n",
    "The most important certifications in finance CFA and FRM also put a lot of stress on measuring and managing risk. There are scores of questions based on the concept of measuring standard deviation and related metrics.\n",
    "\n",
    "### Advantages and Disadvantages of using Standard Deviation\n",
    "-----\n",
    "\n",
    "**Advantages:**\n",
    "\n",
    "1. It measures the deviation from the mean, which is a very important statistic (Shows the central tendency)\n",
    "\n",
    "2. It squares and makes the negative numbers positive\n",
    "\n",
    ">3. *The square of small numbers is smaller (Contraction effect) and large numbers larger (Expanding effect). So it makes you ignore small deviations and see the larger one clearly!*\n",
    "\n",
    "4. The square makes algebraic calculation relatively simpler\n",
    "\n",
    "**Disadvantages:**\n",
    "\n",
    "1. It assumes the pattern of normal distribution.\n",
    "2. It is unable to provide the full range of data.\n",
    "3. SD uses only the data statistic, which plot independent variables against the frequency.\n",
    "\n",
    ">**Hence, the biggest drawback of using standard deviation is that it can be impacted by outliers and extreme values. Standard deviation assumes a normal distribution and calculates all uncertainty as risk**.\n",
    "\n",
    "\n",
    "[ Refer: https://www.investopedia.com/terms/s/standarddeviation.asp ]"
   ]
  },
  {
   "cell_type": "markdown",
   "metadata": {},
   "source": [
    "### Visualizing Standard Deviation\n",
    "\n",
    "\n",
    "The bell curve (what statisticians call a “normal distribution“) is commonly seen in statistics as a tool to understand standard deviation.\n",
    "\n",
    "The following graph of a normal distribution represents a great deal of data in real life. The mean, or average, is represented by the Greek letter μ, in the center. Each segment (colored in dark blue to light blue) represents one standard deviation away from the mean. For example, 2σ means two standard deviations from the mean.\n",
    "\n",
    "![standardDeviation](https://www.statisticshowto.com/wp-content/uploads/2012/11/Standard_deviation_diagram.svg_.png)"
   ]
  },
  {
   "cell_type": "markdown",
   "metadata": {},
   "source": [
    "### Note: Why square the differences?\n",
    "\n",
    "Taking absolute values instead of squaring the differences doesn't necessarily indicates how much spread out the data is. \n",
    "\n",
    "For example: Taking two sets of data: 1.) 4, 4, -4, -4. 2.) 7, 1, -6, -2\n",
    "\n",
    "**Mean in both the cases is zero**. Mean being zero can never be an indicator that datasets are similar.\n",
    "\n",
    "Adding up the deviation from mean, the negatives cancel the positives: \t \n",
    "((4 + 4 − 4 − 4)/4 = 0\n",
    "\n",
    "Now, using absolute values of deviation of data points from mean:\n",
    "\n",
    "(|4 - 0| + |4 - 0| + |−4 - 0| + |−4 - 0|)/4 = (4 + 4 + 4 + 4)/4 = 4\n",
    " \n",
    "Similarily on dataset 2. \t \n",
    "(|7| + |1| + |−6| + |−2|)/4 = (7 + 1 + 6 + 2)/4 = 4\n",
    "\n",
    "Here we can observe that even thoughthe differences are more spread out in the case of dataset 2, the values of deviation obtained by using absolute values or direct summation is same. Hence, no conclusion can be drawn.\n",
    "\n",
    "Now, squaring each difference (and taking the square root at the end):\n",
    "\n",
    "1. √( 4^2 + 4^2 + (-4)^2 + (-4)^2)/4= √(64/4) = 4\n",
    "\n",
    "2. √(7^2 + 1^2 + (-6)^2 + (-2)^2)/4 = √(90/4) = 4.74...\n",
    "\n",
    ">**The Standard Deviation is bigger when the differences are more spread out.\n",
    "Also, it is easier to use algebra on squares and square roots than absolute values, which makes the standard deviation easy to use in other areas of mathematics.**"
   ]
  },
  {
   "cell_type": "code",
   "execution_count": 103,
   "metadata": {},
   "outputs": [],
   "source": [
    "def std(X):\n",
    "    mean = sum(X)/len(X)\n",
    "    dev = [(i-mean)**2 for i in X]\n",
    "    std = (sum(dev)/(len(X)-1))**0.5\n",
    "    return std"
   ]
  },
  {
   "cell_type": "code",
   "execution_count": 104,
   "metadata": {},
   "outputs": [
    {
     "data": {
      "text/plain": [
       "26097.908978713687"
      ]
     },
     "execution_count": 104,
     "metadata": {},
     "output_type": "execute_result"
    }
   ],
   "source": [
    "std(df[\"Mthly_HH_Income\"])"
   ]
  },
  {
   "cell_type": "code",
   "execution_count": 105,
   "metadata": {},
   "outputs": [
    {
     "data": {
      "text/plain": [
       "26097.908978713687"
      ]
     },
     "execution_count": 105,
     "metadata": {},
     "output_type": "execute_result"
    }
   ],
   "source": [
    "##Inbuilt\n",
    "df[\"Mthly_HH_Income\"].std()"
   ]
  },
  {
   "cell_type": "markdown",
   "metadata": {},
   "source": [
    "# Correlation\n",
    "\n",
    ">Correlation is a measure of a mutual relationship between two variables whether they are causal or not. This degree of measurement could be measured on any kind of data type (Continous and Continous, Categorical and Categorical, Continous and Categorical). It is useful because it can indicate a predictive relationship that could be exploited in the practice. \n",
    "\n",
    "**Note: Correlation does not indicate the causation of the one variable to another, it only measure the strength of relation between them i.e., Only indicates association.**\n",
    "\n",
    "**Widely used correlation are:**\n",
    "\n",
    "<font color=\"Red\"><strong>1. Pearson correlation (parametric)</strong></font>\n",
    "\n",
    "<font color=\"Red\"><strong>2. Spearman correlation (non-parametric)</strong></font>\n",
    "\n",
    "<font color=\"Red\"><strong>3. Kendall rank correlation (non-parametric)</strong></font>\n",
    "\n",
    "<font color=\"Red\"><strong>4. Point-Biserial correlation.</strong></font>\n",
    "\n",
    "\n",
    "### 1. Pearson's Correlation Coefficient(r):\n",
    "\n",
    ">The Pearson correlation coefficient, also known as r, R, or Pearson's r, is a measure of the strength and direction of the **linear relationship** between two variables that is defined as the covariance of the variables divided by the product of their standard deviations.$^{[1]}$\n",
    "\n",
    "**Note: The bivariate Pearson Correlation cannot address non-linear relationships or relationships among categorical variables. If understanding of relationships that involve categorical variables and/or non-linear relationships is required, another measure of association should be opted.**\n",
    "\n",
    "$$ r=\\frac{\\sum (x_i - \\bar{x}) (y_i - \\bar{y})}{\\sqrt{ \\sum (x_i - \\bar{x})^2  \\sum (y_i - \\bar{y})^2}}$$\n",
    "\n",
    "The symbol for Pearson's correlation is \"ρ\" when it is measured in the population and \"r\" when it is measured in a sample.\n",
    "\n",
    "r\t=\tcorrelation coefficient\n",
    "\n",
    "$x_{i}$\t= values of the x-variable in a sample\n",
    "\n",
    "$\\bar{x}$ = mean of the values of the x-variable\n",
    "\n",
    "$y_{i}$\t= values of the y-variable in a sample\n",
    "\n",
    "$\\bar{y}$ =\tmean of the values of the y-variable\n",
    "\n",
    "### Conclusions from Pearson's Correlation:\n",
    "\n",
    "Correlation can take on any value in the range [-1, 1]. The sign of the correlation coefficient indicates the direction of the relationship, while the magnitude of the correlation (how close it is to -1 or +1) indicates the strength of the relationship.\n",
    "\n",
    " - -1  : Perfectly negative linear relationship\n",
    " -  0  : No relationship\n",
    " - +1  : Perfectly positive linear relationship\n",
    " \n",
    "The strength can be assessed by these general guidelines(which may vary by discipline):\n",
    "\n",
    " - .1 < | r | < .3 : Small / weak correlation\n",
    " - .3 < | r | < .5 : Medium / moderate correlation\n",
    " - .5 < | r | ………  : Large / strong correlation\n",
    "\n",
    ">**What is a p-value?**\n",
    "A p-value is a **measure of probability used for hypothesis testing.**\n",
    "It indicates the likelihood of obtaining the data that we are seeing if there is no effect present — in other words, in the case of the null hypothesis. When a p-value is used to describe a result as statistically significant, this means that it falls below a pre-defined cutoff (e.g., p <.05 or p <.01) at which point we reject the null hypothesis in favor of an alternative hypothesis.\n",
    " \n",
    "\n",
    "![pearson.png](https://cikguamirul.files.wordpress.com/2011/12/graf-korelasi.png)\n",
    "\n",
    "### Assumptions:\n",
    "\n",
    "1. Two or more continuous variables (i.e., interval or ratio level)\n",
    "2. Cases must have non-missing values on both variables\n",
    "3. Linear relationship between the variables\n",
    "4. Independent cases (i.e., independence of observations)\n",
    "\n",
    "    There is no relationship between the values of variables between cases. This means that:\n",
    "\n",
    "   - the values for all variables across cases are unrelated\n",
    "   - for any case, the value for any variable cannot influence the value of any variable for other cases\n",
    "   - no case can influence another case on any variable\n",
    " \n",
    "   The biviariate Pearson correlation coefficient and corresponding significance test are not robust when independence is         violated.\n",
    "\n",
    "5. Bivariate normality\n",
    "   - Each pair of variables is bivariately normally distributed\n",
    "   - Each pair of variables is bivariately normally distributed at all levels of the other variable(s)\n",
    "   - This assumption ensures that the variables are linearly related; violations of this assumption may indicate that non-          linear relationships among variables exist. Linearity can be assessed visually using a scatterplot of the data.\n",
    "   \n",
    "6. Random sample of data from the population\n",
    "7. No outliers\n",
    "\n",
    "**References:**\n",
    "1. \"List of Probability and Statistics Symbols\". Math Vault. 2020-04-26. Retrieved 2020-08-22.\n",
    "2. https://towardsdatascience.com/what-it-takes-to-be-correlated-ce41ad0d8d7f\n",
    "3. https://www.jmp.com/en_in/statistics-knowledge-portal/what-is-correlation.html#404f1893-ae56-43ed-b84c-f6c99f313eca\n",
    "4. https://towardsdatascience.com/kendall-rank-correlation-explained-dee01d99c535"
   ]
  },
  {
   "cell_type": "markdown",
   "metadata": {},
   "source": [
    "### 2. Spearman's Correlation Coefficient(r):\n",
    "\n",
    ">Unlike the Pearson Correlation Coefficient, Spearman Rank Correlation measures the monotonic relationship (Strictly increase or decrease, not both) between two variables and measured by the rank order of the values. The correlation still measured between continuous variable X and continuous variable Y, although the Spearman Rank Correlation method still relevant to the discrete ordinal variable.\n",
    "\n",
    "If there are ties in ranks within the dataset use the formula:\n",
    "\n",
    "$$ \\rho=\\frac{\\sum (x_i - \\bar{x}) (y_i - \\bar{y})}{\\sqrt{ \\sum (x_i - \\bar{x})^2  \\sum (y_i - \\bar{y})^2}}$$\n",
    "\n",
    "If all the rank is unique or no tie between the rank, we could simplify the equation as:\n",
    "\n",
    "$$ \\rho = 1- \\frac{6 \\sum d_i^2}{n(n^2 - 1)}$$\n",
    "\n",
    "$\\rho$ = Spearman's rank correlation coefficient\n",
    "\n",
    "$d_{i}$\t= difference between the two ranks of each observation.\n",
    "\n",
    "n =\tnumber of observations\n",
    "\n",
    "The Spearman's rank-order correlation is the nonparametric version of the Pearson product-moment correlation. Spearman's correlation coefficient, (ρ, also signified by rs) measures the strength and direction of association between two ranked variables.\n",
    "\n",
    ">**Spearman rank correlation could be interpreted similarly as the Pearson correlation coefficient as their value falls between -1 to 1. The closer the score to 1 means that there is a positive monotonic relationship between the variable (the data keep increasing) and vice versa. If variable X and variable Y independent, the value would be equal to 0.**\n",
    "\n",
    "### Conclusion from Spearman Correlation:\n",
    "\n",
    "From value of rs:\n",
    " - 0.00-0.19 “Very weak”\n",
    " - 0.20-0.39 “Weak”\n",
    " - 0.40-0.59 “Moderate”\n",
    " - 0.60-0.79 “Strong”\n",
    " - 0.80-1.0 “Very strong”\n",
    "\n",
    "\n",
    "![monotonic.png](https://statistics.laerd.com/statistical-guides/img/spearman-1-small.png)\n",
    "\n",
    "### Assumptions:\n",
    "\n",
    "The calculation of Spearman’s correlation coefficient and subsequent significance testing of it requires the following data assumptions to hold:\n",
    "- Continuous or ordinal\n",
    "- Monotonically related\n",
    "\n",
    "**Note: Unlike Pearson’s correlation, there is no requirement of normality and hence it\n",
    "is a nonparametric statistic.**\n",
    "\n",
    "![Spearman1.png](https://accounts.termwiki.com/thumb1.php?f=272680&width=380&auto=1)\n",
    "![Spearman2.png](https://i.pinimg.com/474x/2f/60/1b/2f601b7b01c2791e872cd0b75bc9b524.jpg)\n",
    "![Spearman3.png](https://i1.wp.com/pic4.zhimg.com/50/v2-bb119f7b4b510c9e28641193e2fccc69_hd.jpg)\n",
    "\n",
    "**Read More:**\n",
    "1. https://statistics.laerd.com/statistical-guides/spearmans-rank-order-correlation-statistical-guide.php\n",
    "2. https://www.statisticssolutions.com/free-resources/directory-of-statistical-analyses/correlation-pearson-kendall-spearman/?__cf_chl_jschl_tk__=pmd_7SRg1.J4HyYESHzgdmV1x5V3uIIG1WKS1OrjhK77eHw-1635158652-0-gqNtZGzNAnujcnBszQjR\n",
    "3. https://www.statstutor.ac.uk/resources/uploaded/spearmans.pdf"
   ]
  },
  {
   "cell_type": "markdown",
   "metadata": {},
   "source": [
    "### Calculating the correlation between \"Monthly_HH_Income\" and \"Monthly_HH_Expense\""
   ]
  },
  {
   "cell_type": "code",
   "execution_count": 106,
   "metadata": {},
   "outputs": [
    {
     "data": {
      "text/plain": [
       "<matplotlib.axes._subplots.AxesSubplot at 0x2414838d2c8>"
      ]
     },
     "execution_count": 106,
     "metadata": {},
     "output_type": "execute_result"
    },
    {
     "data": {
      "image/png": "[encoded data removed]",
      "text/plain": [
       "<Figure size 432x288 with 1 Axes>"
      ]
     },
     "metadata": {
      "needs_background": "light"
     },
     "output_type": "display_data"
    }
   ],
   "source": [
    "# Checking the kind of relationship between the two columns by plotting scatterplot\n",
    "\n",
    "sns.scatterplot(x=df[\"Mthly_HH_Income\"],y=df[\"Mthly_HH_Expense\"])"
   ]
  },
  {
   "cell_type": "markdown",
   "metadata": {},
   "source": [
    "#### Finding Covariance of X,Y"
   ]
  },
  {
   "cell_type": "code",
   "execution_count": 107,
   "metadata": {},
   "outputs": [],
   "source": [
    "#for X i.e., df[\"Mthly_HH_Income\"]\n",
    "def cov_X_Y(X,Y):\n",
    "    Mean_x=sum(X)/len(X)\n",
    "    x_xbar=[x-Mean_x for x in X]\n",
    "    #for Y i.e., df[\"Mthly_HH_Expense\"]\n",
    "\n",
    "    Mean_y=sum(Y)/len(Y)\n",
    "    y_ybar=[y-Mean_y for y in Y]\n",
    "\n",
    "    a=[x*y for x,y in zip(x_xbar,y_ybar)]\n",
    "    Cov_X_Y=(sum(a))/(len(y_ybar)-1)\n",
    "    return Cov_X_Y"
   ]
  },
  {
   "cell_type": "code",
   "execution_count": 108,
   "metadata": {},
   "outputs": [
    {
     "data": {
      "text/plain": [
       "204846485.7142857"
      ]
     },
     "execution_count": 108,
     "metadata": {},
     "output_type": "execute_result"
    }
   ],
   "source": [
    "cov_X_Y(df[\"Mthly_HH_Income\"],df[\"Mthly_HH_Expense\"])"
   ]
  },
  {
   "cell_type": "code",
   "execution_count": 109,
   "metadata": {},
   "outputs": [
    {
     "data": {
      "text/plain": [
       "204846485.7142857"
      ]
     },
     "execution_count": 109,
     "metadata": {},
     "output_type": "execute_result"
    }
   ],
   "source": [
    "cov_X_Y(df[\"Mthly_HH_Income\"],df[\"Mthly_HH_Expense\"])"
   ]
  },
  {
   "cell_type": "code",
   "execution_count": 110,
   "metadata": {},
   "outputs": [
    {
     "data": {
      "text/html": [
       "<div>\n",
       "<style scoped>\n",
       "    .dataframe tbody tr th:only-of-type {\n",
       "        vertical-align: middle;\n",
       "    }\n",
       "\n",
       "    .dataframe tbody tr th {\n",
       "        vertical-align: top;\n",
       "    }\n",
       "\n",
       "    .dataframe thead th {\n",
       "        text-align: right;\n",
       "    }\n",
       "</style>\n",
       "<table border=\"1\" class=\"dataframe\">\n",
       "  <thead>\n",
       "    <tr style=\"text-align: right;\">\n",
       "      <th></th>\n",
       "      <th>Mthly_HH_Income</th>\n",
       "      <th>Mthly_HH_Expense</th>\n",
       "      <th>No_of_Fly_Members</th>\n",
       "      <th>Emi_or_Rent_Amt</th>\n",
       "      <th>Annual_HH_Income</th>\n",
       "      <th>No_of_Earning_Members</th>\n",
       "    </tr>\n",
       "  </thead>\n",
       "  <tbody>\n",
       "    <tr>\n",
       "      <td>Mthly_HH_Income</td>\n",
       "      <td>6.811009e+08</td>\n",
       "      <td>2.048465e+08</td>\n",
       "      <td>17753.591837</td>\n",
       "      <td>6.022980e+06</td>\n",
       "      <td>8.106864e+09</td>\n",
       "      <td>6666.653061</td>\n",
       "    </tr>\n",
       "    <tr>\n",
       "      <td>Mthly_HH_Expense</td>\n",
       "      <td>2.048465e+08</td>\n",
       "      <td>1.461733e+08</td>\n",
       "      <td>11735.632653</td>\n",
       "      <td>3.058257e+07</td>\n",
       "      <td>2.288330e+09</td>\n",
       "      <td>2769.102041</td>\n",
       "    </tr>\n",
       "    <tr>\n",
       "      <td>No_of_Fly_Members</td>\n",
       "      <td>1.775359e+04</td>\n",
       "      <td>1.173563e+04</td>\n",
       "      <td>2.302449</td>\n",
       "      <td>8.126531e+02</td>\n",
       "      <td>2.093019e+05</td>\n",
       "      <td>0.665714</td>\n",
       "    </tr>\n",
       "    <tr>\n",
       "      <td>Emi_or_Rent_Amt</td>\n",
       "      <td>6.022980e+06</td>\n",
       "      <td>3.058257e+07</td>\n",
       "      <td>812.653061</td>\n",
       "      <td>3.895551e+07</td>\n",
       "      <td>5.426263e+06</td>\n",
       "      <td>-446.530612</td>\n",
       "    </tr>\n",
       "    <tr>\n",
       "      <td>Annual_HH_Income</td>\n",
       "      <td>8.106864e+09</td>\n",
       "      <td>2.288330e+09</td>\n",
       "      <td>209301.854694</td>\n",
       "      <td>5.426263e+06</td>\n",
       "      <td>1.024869e+11</td>\n",
       "      <td>69741.266939</td>\n",
       "    </tr>\n",
       "    <tr>\n",
       "      <td>No_of_Earning_Members</td>\n",
       "      <td>6.666653e+03</td>\n",
       "      <td>2.769102e+03</td>\n",
       "      <td>0.665714</td>\n",
       "      <td>-4.465306e+02</td>\n",
       "      <td>6.974127e+04</td>\n",
       "      <td>0.539184</td>\n",
       "    </tr>\n",
       "  </tbody>\n",
       "</table>\n",
       "</div>"
      ],
      "text/plain": [
       "                       Mthly_HH_Income  Mthly_HH_Expense  No_of_Fly_Members  \\\n",
       "Mthly_HH_Income           6.811009e+08      2.048465e+08       17753.591837   \n",
       "Mthly_HH_Expense          2.048465e+08      1.461733e+08       11735.632653   \n",
       "No_of_Fly_Members         1.775359e+04      1.173563e+04           2.302449   \n",
       "Emi_or_Rent_Amt           6.022980e+06      3.058257e+07         812.653061   \n",
       "Annual_HH_Income          8.106864e+09      2.288330e+09      209301.854694   \n",
       "No_of_Earning_Members     6.666653e+03      2.769102e+03           0.665714   \n",
       "\n",
       "                       Emi_or_Rent_Amt  Annual_HH_Income  \\\n",
       "Mthly_HH_Income           6.022980e+06      8.106864e+09   \n",
       "Mthly_HH_Expense          3.058257e+07      2.288330e+09   \n",
       "No_of_Fly_Members         8.126531e+02      2.093019e+05   \n",
       "Emi_or_Rent_Amt           3.895551e+07      5.426263e+06   \n",
       "Annual_HH_Income          5.426263e+06      1.024869e+11   \n",
       "No_of_Earning_Members    -4.465306e+02      6.974127e+04   \n",
       "\n",
       "                       No_of_Earning_Members  \n",
       "Mthly_HH_Income                  6666.653061  \n",
       "Mthly_HH_Expense                 2769.102041  \n",
       "No_of_Fly_Members                   0.665714  \n",
       "Emi_or_Rent_Amt                  -446.530612  \n",
       "Annual_HH_Income                69741.266939  \n",
       "No_of_Earning_Members               0.539184  "
      ]
     },
     "execution_count": 110,
     "metadata": {},
     "output_type": "execute_result"
    }
   ],
   "source": [
    "# Inbuilt method to verify\n",
    "df.cov()"
   ]
  },
  {
   "cell_type": "code",
   "execution_count": 111,
   "metadata": {},
   "outputs": [],
   "source": [
    "def corr(X,Y):\n",
    "    covXY=cov_X_Y(X,Y)\n",
    "    std_X=std(X)\n",
    "    std_Y=std(Y)\n",
    "    corX_Y=covXY/(std_X*std_Y)\n",
    "    return corX_Y"
   ]
  },
  {
   "cell_type": "code",
   "execution_count": 112,
   "metadata": {},
   "outputs": [
    {
     "data": {
      "text/plain": [
       "0.6492152549316461"
      ]
     },
     "execution_count": 112,
     "metadata": {},
     "output_type": "execute_result"
    }
   ],
   "source": [
    "corr(df[\"Mthly_HH_Income\"],df[\"Mthly_HH_Expense\"])"
   ]
  },
  {
   "cell_type": "code",
   "execution_count": 113,
   "metadata": {},
   "outputs": [
    {
     "name": "stdout",
     "output_type": "stream",
     "text": [
      "The Pearson Correlation between Monthly Income and Expense is 0.6492 \n"
     ]
    }
   ],
   "source": [
    "#Also\n",
    "from scipy.stats import pearsonr\n",
    "x = df[\"Mthly_HH_Income\"].tolist()\n",
    "y = df[\"Mthly_HH_Expense\"].tolist()\n",
    "corr , _ = pearsonr(x,y)\n",
    "print(f'The Pearson Correlation between Monthly Income and Expense is {\"%.4f\" % corr} ')"
   ]
  },
  {
   "cell_type": "code",
   "execution_count": 114,
   "metadata": {},
   "outputs": [
    {
     "data": {
      "text/html": [
       "<div>\n",
       "<style scoped>\n",
       "    .dataframe tbody tr th:only-of-type {\n",
       "        vertical-align: middle;\n",
       "    }\n",
       "\n",
       "    .dataframe tbody tr th {\n",
       "        vertical-align: top;\n",
       "    }\n",
       "\n",
       "    .dataframe thead th {\n",
       "        text-align: right;\n",
       "    }\n",
       "</style>\n",
       "<table border=\"1\" class=\"dataframe\">\n",
       "  <thead>\n",
       "    <tr style=\"text-align: right;\">\n",
       "      <th></th>\n",
       "      <th>Mthly_HH_Income</th>\n",
       "      <th>Mthly_HH_Expense</th>\n",
       "      <th>No_of_Fly_Members</th>\n",
       "      <th>Emi_or_Rent_Amt</th>\n",
       "      <th>Annual_HH_Income</th>\n",
       "      <th>No_of_Earning_Members</th>\n",
       "    </tr>\n",
       "  </thead>\n",
       "  <tbody>\n",
       "    <tr>\n",
       "      <td>Mthly_HH_Income</td>\n",
       "      <td>1.000000</td>\n",
       "      <td>0.649215</td>\n",
       "      <td>0.448317</td>\n",
       "      <td>0.036976</td>\n",
       "      <td>0.970315</td>\n",
       "      <td>0.347883</td>\n",
       "    </tr>\n",
       "    <tr>\n",
       "      <td>Mthly_HH_Expense</td>\n",
       "      <td>0.649215</td>\n",
       "      <td>1.000000</td>\n",
       "      <td>0.639702</td>\n",
       "      <td>0.405280</td>\n",
       "      <td>0.591222</td>\n",
       "      <td>0.311915</td>\n",
       "    </tr>\n",
       "    <tr>\n",
       "      <td>No_of_Fly_Members</td>\n",
       "      <td>0.448317</td>\n",
       "      <td>0.639702</td>\n",
       "      <td>1.000000</td>\n",
       "      <td>0.085808</td>\n",
       "      <td>0.430868</td>\n",
       "      <td>0.597482</td>\n",
       "    </tr>\n",
       "    <tr>\n",
       "      <td>Emi_or_Rent_Amt</td>\n",
       "      <td>0.036976</td>\n",
       "      <td>0.405280</td>\n",
       "      <td>0.085808</td>\n",
       "      <td>1.000000</td>\n",
       "      <td>0.002716</td>\n",
       "      <td>-0.097431</td>\n",
       "    </tr>\n",
       "    <tr>\n",
       "      <td>Annual_HH_Income</td>\n",
       "      <td>0.970315</td>\n",
       "      <td>0.591222</td>\n",
       "      <td>0.430868</td>\n",
       "      <td>0.002716</td>\n",
       "      <td>1.000000</td>\n",
       "      <td>0.296679</td>\n",
       "    </tr>\n",
       "    <tr>\n",
       "      <td>No_of_Earning_Members</td>\n",
       "      <td>0.347883</td>\n",
       "      <td>0.311915</td>\n",
       "      <td>0.597482</td>\n",
       "      <td>-0.097431</td>\n",
       "      <td>0.296679</td>\n",
       "      <td>1.000000</td>\n",
       "    </tr>\n",
       "  </tbody>\n",
       "</table>\n",
       "</div>"
      ],
      "text/plain": [
       "                       Mthly_HH_Income  Mthly_HH_Expense  No_of_Fly_Members  \\\n",
       "Mthly_HH_Income               1.000000          0.649215           0.448317   \n",
       "Mthly_HH_Expense              0.649215          1.000000           0.639702   \n",
       "No_of_Fly_Members             0.448317          0.639702           1.000000   \n",
       "Emi_or_Rent_Amt               0.036976          0.405280           0.085808   \n",
       "Annual_HH_Income              0.970315          0.591222           0.430868   \n",
       "No_of_Earning_Members         0.347883          0.311915           0.597482   \n",
       "\n",
       "                       Emi_or_Rent_Amt  Annual_HH_Income  \\\n",
       "Mthly_HH_Income               0.036976          0.970315   \n",
       "Mthly_HH_Expense              0.405280          0.591222   \n",
       "No_of_Fly_Members             0.085808          0.430868   \n",
       "Emi_or_Rent_Amt               1.000000          0.002716   \n",
       "Annual_HH_Income              0.002716          1.000000   \n",
       "No_of_Earning_Members        -0.097431          0.296679   \n",
       "\n",
       "                       No_of_Earning_Members  \n",
       "Mthly_HH_Income                     0.347883  \n",
       "Mthly_HH_Expense                    0.311915  \n",
       "No_of_Fly_Members                   0.597482  \n",
       "Emi_or_Rent_Amt                    -0.097431  \n",
       "Annual_HH_Income                    0.296679  \n",
       "No_of_Earning_Members               1.000000  "
      ]
     },
     "execution_count": 114,
     "metadata": {},
     "output_type": "execute_result"
    }
   ],
   "source": [
    "# Inbuilt method to verify\n",
    "df.corr()"
   ]
  },
  {
   "cell_type": "markdown",
   "metadata": {},
   "source": [
    "# Normal Distribution\n",
    "\n",
    "Normal distribution is also known as the Gaussian distribution, is a probability distribution that is symmetric about the mean, showing that data near the mean are more frequent in occurrence than data far from the mean. In graph form, normal distribution will appear as a bell curve.\n",
    "\n",
    "\n",
    "### Features of Normal Distribution\n",
    "             \n",
    "   ***In normal distributation The mean, mode and median are all equal.***\n",
    "   \n",
    "-  They’re all bell curves symmetric at centre (i.e. around the mean, μ). The Gaussian distribution cannot model skewed distributions.\n",
    "-  Exactly half of the values are to the left of center and exactly half the values are to the right.\n",
    "-  The total area under the curve is 1.\n",
    "-  The skewness for Normal distribution is 0.\n",
    "-  The kurtosis for Normal distribution is 3.\n",
    "-  The Empirical Rule allows to determine the proportion of values that fall within certain distances from the mean.\n",
    "\n",
    " >**Empirical rule for the normal distribution:** The Empirical Rule states that 99.7% of data observed following a normal distribution lies within 3 standard deviations of the mean. Under this rule, 68% of the data falls within one standard deviation, 95% percent within two standard deviations, and 99.7% within three standard deviations from the mean. Three-sigma limits that follow the empirical rule are used to set the upper and lower control limits in statistical quality control charts and in risk analysis such as VaR, i.e., Value-at-risk.\n",
    " \n",
    "**The empirical rule is used often in statistics for forecasting final outcomes. After calculating the standard deviation and before collecting exact data, this rule can be used as a rough estimate of the outcome of the impending data to be collected and analyzed.**\n",
    " \n",
    "![Empirical-rule-FINAL.jpg](https://pbs.twimg.com/media/E3ccVByXEAEUmGU.jpg)\n",
    "\n",
    "### The Probability Density Function (PDF) for Normal Distribution:\n",
    "\n",
    "$$f(x\\;|\\;\\mu ,\\sigma ^{2})={\\frac {1}{\\sqrt {2\\pi \\sigma ^{2}}}}\\;e^{-{\\frac {(x-\\mu )^{2}}{2\\sigma ^{2}}}}$$\n",
    "\n",
    "$$f(x,\\mu,\\sigma) = \\frac{1}{\\sigma\\sqrt{2\\pi}}e^{-\\frac{z^2}{2}}$$\n",
    "\n",
    "$$z=\\frac{(X-\\mu)}{\\sigma}$$\n",
    "                     \n",
    "\n",
    "**Read more:**\n",
    "1. https://statisticsbyjim.com/basics/normal-distribution/\n",
    "2. https://www.investopedia.com/terms/e/empirical-rule.asp"
   ]
  },
  {
   "cell_type": "code",
   "execution_count": 115,
   "metadata": {},
   "outputs": [
    {
     "data": {
      "image/png": "[encoded data removed]",
      "text/plain": [
       "<Figure size 432x288 with 1 Axes>"
      ]
     },
     "metadata": {
      "needs_background": "light"
     },
     "output_type": "display_data"
    }
   ],
   "source": [
    "example = np.random.normal(size=2000)\n",
    "sns.distplot(example , hist = False);"
   ]
  },
  {
   "cell_type": "markdown",
   "metadata": {},
   "source": [
    "# Log-Normal Distribution\n",
    "\n",
    "> A **lognormal (log-normal or Galton) distribution** is a probability distribution with a normally distributed logarithm. A random variable is lognormally distributed if its logarithm is normally distributed.\n",
    "\n",
    "![lognormal](https://www.investopedia.com/thmb/FEQYc8RFuYtQ9GIbRFaqyu1Jww4=/2316x0/filters:no_upscale():max_bytes(150000):strip_icc():format(webp)/LognormalandNormalDistribution2_2-5dd2dde6dd3243cbbc1b6d995db3f0d6.png)\n",
    "\n",
    "\n",
    "**Read more:**\n",
    "1. https://www.investopedia.com/terms/l/log-normal-distribution.asp\n",
    "2. https://www.statisticshowto.com/lognormal-distribution/\n",
    "3. https://www.investopedia.com/articles/investing/102014/lognormal-and-normal-distribution.asp\n"
   ]
  },
  {
   "cell_type": "markdown",
   "metadata": {},
   "source": [
    "# Pareto Distribution\n",
    "\n",
    ">**Pareto distribution** is a power-law probability distribution named after Italian civil engineer, economist, and sociologist Vilfredo Pareto, that is used to describe social, scientific, geophysical, actuarial and various other types of observable phenomenon. Pareto distribution is sometimes known as the Pareto Principle or ‘80–20’ rule, as the rule states that 80% of society’s wealth is held by 20% of its population. Pareto distribution is not a law of nature, but an observation. It is useful in many real-world problems. It is a skewed heavily tailed distribution.\n",
    "\n",
    "![pareto](https://miro.medium.com/max/633/1*_4tmuERisoc-5WHtl1mu6A.png)\n",
    "\n",
    "Read more:\n",
    "1. https://www.statisticshowto.com/pareto-distribution/\n",
    "2. https://towardsdatascience.com/generating-pareto-distribution-in-python-2c2f77f70dbf"
   ]
  },
  {
   "cell_type": "markdown",
   "metadata": {},
   "source": [
    "## Central Limit Theorem\n",
    "\n",
    ">The **Central Limit Theorem** is one of the most important theorems in statistical theory. It states that when independent random variables are added, their sum tends toward a normal distribution even if the original variables themselves are not normally distributed."
   ]
  },
  {
   "cell_type": "markdown",
   "metadata": {},
   "source": [
    "# Positively Skewed & Negatively Skewed Normal Distribution\n",
    "\n",
    ">**Skewness** refers to a distortion or asymmetry that deviates from the symmetrical bell curve, or normal distribution, in a set of data. If the curve is shifted to the left or to the right, it is said to be skewed. Skewness can be quantified as a representation of the extent to which a given distribution varies from a normal distribution. **A normal distribution has a skew of zero, while a lognormal distribution, for example, would exhibit some degree of right-skew.**\n",
    "\n",
    "\n",
    "**Measuring Skewness:**\n",
    "\n",
    "There are several ways to measure skewness. Pearson’s first and second coefficients of skewness are two common ones. Pearson’s first coefficient of skewness, or Pearson mode skewness, subtracts the mode from the mean and divides the difference by the standard deviation. Pearson’s second coefficient of skewness, or Pearson median skewness, subtracts the median from the mean, multiplies the difference by three, and divides the product by the standard deviation.\n",
    "\n",
    "$$Sk_1=\\frac{X–Mo}{s}$$\n",
    "\n",
    "$$Sk_2=\\frac{3\\bar{X}–Md}{s}$$\n",
    "\n",
    "Where,\n",
    "- $Sk_1$ and $Sk_2$ are Pearson’s first and second coefficient of skewness respectively\n",
    "- $\\bar{X}$ is the mean value\n",
    "- Mo is the modal (mode) value\n",
    "- Md is the median value\n",
    "- s is the standard deviation for the sample\n",
    "\n",
    "**Note: Pearson’s first coefficient of skewness is useful if the data exhibit a strong mode. If the data have a weak mode or multiple modes, Pearson’s second coefficient may be preferable, as it does not rely on mode as a measure of central tendency.**\n",
    "\n",
    " \n",
    "**Read more:**\n",
    "1. https://www.analyticsvidhya.com/blog/2020/07/what-is-skewness-statistics/\n",
    "2. https://www.investopedia.com/terms/s/skewness.asp"
   ]
  },
  {
   "cell_type": "markdown",
   "metadata": {},
   "source": [
    "# Effect on Mean, Median and Mode due to Skewness\n",
    "\n",
    "![skewness](https://d138zd1ktt9iqe.cloudfront.net/media/seo_landing_files/empirical-relation-between-mean-median-and-mode-1628764844.png)"
   ]
  },
  {
   "cell_type": "code",
   "execution_count": 116,
   "metadata": {},
   "outputs": [
    {
     "data": {
      "text/plain": [
       "Mthly_HH_Income          0.924615\n",
       "Mthly_HH_Expense         1.199461\n",
       "No_of_Fly_Members        0.113674\n",
       "Emi_or_Rent_Amt          3.403680\n",
       "Annual_HH_Income         1.192949\n",
       "No_of_Earning_Members    1.593301\n",
       "dtype: float64"
      ]
     },
     "execution_count": 116,
     "metadata": {},
     "output_type": "execute_result"
    }
   ],
   "source": [
    "df.skew()"
   ]
  },
  {
   "cell_type": "code",
   "execution_count": 117,
   "metadata": {},
   "outputs": [
    {
     "data": {
      "text/plain": [
       "Index(['Mthly_HH_Income', 'Mthly_HH_Expense', 'No_of_Fly_Members',\n",
       "       'Emi_or_Rent_Amt', 'Annual_HH_Income', 'Highest_Qualified_Member',\n",
       "       'No_of_Earning_Members'],\n",
       "      dtype='object')"
      ]
     },
     "execution_count": 117,
     "metadata": {},
     "output_type": "execute_result"
    }
   ],
   "source": [
    "df.columns"
   ]
  },
  {
   "cell_type": "code",
   "execution_count": 118,
   "metadata": {},
   "outputs": [
    {
     "data": {
      "image/png": "[encoded data removed]",
      "text/plain": [
       "<Figure size 1440x1800 with 6 Axes>"
      ]
     },
     "metadata": {
      "needs_background": "light"
     },
     "output_type": "display_data"
    }
   ],
   "source": [
    "fig, axes = plt.subplots(3, 2,figsize=[20,25])\n",
    "sns.distplot(df['Mthly_HH_Income'],bins=10,color='violet',kde=bool,ax=axes[0,0])\n",
    "sns.distplot(df['Mthly_HH_Expense'],bins=30,color='red',kde=bool,ax=axes[0,1])\n",
    "sns.distplot(df['No_of_Fly_Members'],bins=20,color='red',kde=bool,ax=axes[1,0])\n",
    "sns.distplot(df['Emi_or_Rent_Amt'],bins=25,color='orange',kde=bool,ax=axes[1,1])\n",
    "sns.distplot(df['Annual_HH_Income'],bins=20,color='brown',kde=bool,ax=axes[2,0])\n",
    "sns.distplot(df['No_of_Earning_Members'],bins=10,kde=bool,ax=axes[2,1])\n",
    "plt.show()"
   ]
  },
  {
   "cell_type": "markdown",
   "metadata": {},
   "source": [
    "# QQ Plot\n",
    "\n",
    ">**Q-Q(quantile-quantile)** plots play a very vital role to graphically analyze and compare two probability distributions such as a Gaussian Distribution, Uniform Distribution, Exponential Distribution or even Pareto Distribution, etc. by plotting their quantiles against each other. If the two distributions which we are comparing are exactly equal then the points on the Q-Q plot will perfectly lie on a straight line y = x.\n",
    "\n",
    "\n",
    "![qqplot0](https://miro.medium.com/max/640/1*_wuWDNGs3hB2K0_kgpoc1A.jpeg)\n",
    "![qqplot1](https://miro.medium.com/max/875/1*aiUmkCQ5451VQa1JYXQioA.png)\n",
    "![qqplot2](https://miro.medium.com/max/875/1*XGMMcZdBxPTK5K_MW7jNVA.png)\n",
    "**Read more:**\n",
    "1. https://towardsdatascience.com/q-q-plots-explained-5aa8495426c0\n",
    "2. https://www.statisticshowto.com/q-q-plots/"
   ]
  },
  {
   "cell_type": "code",
   "execution_count": 119,
   "metadata": {},
   "outputs": [
    {
     "data": {
      "image/png": "[encoded data removed]",
      "text/plain": [
       "<Figure size 432x288 with 1 Axes>"
      ]
     },
     "metadata": {
      "needs_background": "light"
     },
     "output_type": "display_data"
    }
   ],
   "source": [
    "from scipy import stats\n",
    "\n",
    "stats.probplot(df['Mthly_HH_Income'], dist=\"norm\", plot=plt)\n",
    "\n",
    "plt.grid()"
   ]
  },
  {
   "cell_type": "markdown",
   "metadata": {},
   "source": [
    "# Box Cox Transformation\n",
    "\n",
    ">A **Box Cox transformation** is a transformation of non-normal dependent variables into a normal shape. Normality is an important assumption for many statistical techniques; if your data isn’t normal, applying a Box-Cox means that you are able to run a broader number of tests.\n",
    "\n",
    "**The Box-Cox transformation transforms our data so that it closely resembles a normal distribution.**\n",
    "\n",
    "If w is our transformed variable and y is our target variable, then,\n",
    "\n",
    "![boxcox](https://miro.medium.com/max/404/1*6Y67MRMCbr5b7hLKeSMxzA.jpeg)\n",
    "\n",
    "where t is the time period and lambda is the parameter that we choose (you can perform the Box-Cox transformation on non-time series data, also).\n",
    "Notice what happens when lambda equals 1. In that case, our data shifts down but the shape of the data does not change. Therefore, **if the optimal value for lambda is 1, then the data is already normally distributed, and the Box-Cox transformation is unnecessary.**\n",
    "\n",
    "**Read more:**\n",
    "1. https://www.statisticshowto.com/box-cox-transformation/\n",
    "2. https://towardsdatascience.com/box-cox-transformation-explained-51d745e34203\n"
   ]
  },
  {
   "cell_type": "code",
   "execution_count": 120,
   "metadata": {},
   "outputs": [
    {
     "data": {
      "image/png": "[encoded data removed]",
      "text/plain": [
       "<Figure size 432x288 with 1 Axes>"
      ]
     },
     "metadata": {
      "needs_background": "light"
     },
     "output_type": "display_data"
    }
   ],
   "source": [
    "from scipy.stats import boxcox \n",
    "sns.distplot(df['Emi_or_Rent_Amt'], hist=False, kde=True);"
   ]
  },
  {
   "cell_type": "code",
   "execution_count": 121,
   "metadata": {},
   "outputs": [
    {
     "data": {
      "image/png": "[encoded data removed]",
      "text/plain": [
       "<Figure size 432x288 with 1 Axes>"
      ]
     },
     "metadata": {
      "needs_background": "light"
     },
     "output_type": "display_data"
    }
   ],
   "source": [
    "# converting the data to normally distributed\n",
    "transformed_data, best_lambda = boxcox(df[df['Emi_or_Rent_Amt']>0]['Emi_or_Rent_Amt']) \n",
    "\n",
    "sns.distplot(transformed_data, hist=False, kde=True);"
   ]
  },
  {
   "cell_type": "code",
   "execution_count": null,
   "metadata": {},
   "outputs": [],
   "source": []
  }
 ],
 "metadata": {
  "kernelspec": {
   "display_name": "Python 3",
   "language": "python",
   "name": "python3"
  },
  "language_info": {
   "codemirror_mode": {
    "name": "ipython",
    "version": 3
   },
   "file_extension": ".py",
   "mimetype": "text/x-python",
   "name": "python",
   "nbconvert_exporter": "python",
   "pygments_lexer": "ipython3",
   "version": "3.7.4"
  }
 },
 "nbformat": 4,
 "nbformat_minor": 2
}
